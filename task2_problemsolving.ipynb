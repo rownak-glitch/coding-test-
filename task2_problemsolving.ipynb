{
  "nbformat": 4,
  "nbformat_minor": 0,
  "metadata": {
    "colab": {
      "name": "task2_problemsolving.ipynb",
      "provenance": [],
      "mount_file_id": "1E6ZgUFA6obHEqMlgPvDsRLoSogWpxe1q",
      "authorship_tag": "ABX9TyOyQPX64KC/57D5vMw8m6m9",
      "include_colab_link": true
    },
    "kernelspec": {
      "name": "python3",
      "display_name": "Python 3"
    }
  },
  "cells": [
    {
      "cell_type": "markdown",
      "metadata": {
        "id": "view-in-github",
        "colab_type": "text"
      },
      "source": [
        "<a href=\"https://colab.research.google.com/github/rownak-glitch/coding-test-/blob/master/task2_problemsolving.ipynb\" target=\"_parent\"><img src=\"https://colab.research.google.com/assets/colab-badge.svg\" alt=\"Open In Colab\"/></a>"
      ]
    },
    {
      "cell_type": "code",
      "metadata": {
        "colab": {
          "base_uri": "https://localhost:8080/"
        },
        "id": "yYAl9wleHoZB",
        "outputId": "a6413b1c-6e47-49c7-988f-577aceb59c21"
      },
      "source": [
        "N = int(input())\r\n",
        "ar = []\r\n",
        "for _ in range(N):\r\n",
        "    ar.append(float(input()))\r\n",
        "\r\n",
        "def efficientJanitor(weight,n):\r\n",
        "    \r\n",
        "    totalBags = 0\r\n",
        "    totalWeight = 0\r\n",
        "    for i in weight:\r\n",
        "        totalWeight+=i\r\n",
        "        if (totalWeight>3.00):\r\n",
        "            totalBags+=1\r\n",
        "            totalWeight = i\r\n",
        "        \r\n",
        "    if totalWeight!=0:\r\n",
        "        totalBags+=1\r\n",
        "    return totalBags\r\n",
        "\r\n",
        "print(efficientJanitor(ar,N))\r\n",
        "\r\n",
        "\r\n"
      ],
      "execution_count": 23,
      "outputs": [
        {
          "output_type": "stream",
          "text": [
            "5\n",
            "1.01\n",
            "1.01\n",
            "1.01\n",
            "1.4\n",
            "2.4\n",
            "3\n"
          ],
          "name": "stdout"
        }
      ]
    },
    {
      "cell_type": "code",
      "metadata": {
        "colab": {
          "base_uri": "https://localhost:8080/"
        },
        "id": "8oHbZTVwfOGS",
        "outputId": "17f67582-8b7e-4392-eb04-be676485fa30"
      },
      "source": [
        "N = int(input())\r\n",
        "ar = []\r\n",
        "for _ in range(N):\r\n",
        "    ar.append(float(input()))\r\n",
        "print(efficientJanitor(ar,N))\r\n"
      ],
      "execution_count": 22,
      "outputs": [
        {
          "output_type": "stream",
          "text": [
            "4\n",
            "1.01\n",
            "1.991\n",
            "1.32\n",
            "1.4\n",
            "3\n"
          ],
          "name": "stdout"
        }
      ]
    }
  ]
}